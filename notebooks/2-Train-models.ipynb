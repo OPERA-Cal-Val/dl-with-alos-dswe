{
 "cells": [
  {
   "cell_type": "markdown",
   "metadata": {},
   "source": [
    "This notebook will demonstrate how to train a convolutional neural network model to infer surface water extent from a stack of images containing optical, SAR, and elevation information"
   ]
  },
  {
   "cell_type": "code",
   "execution_count": null,
   "metadata": {},
   "outputs": [],
   "source": [
    "# ML imports\n",
    "from model import sarDataLoader, sarInferenceModel\n",
    "import albumentations\n",
    "import torch\n",
    "\n",
    "# data tools imports\n",
    "import pandas as pd\n",
    "\n",
    "# misc imports\n",
    "import os\n",
    "import random\n",
    "from pathlib import Path\n",
    "\n",
    "random.seed(42) # for repeatability\n",
    "os.environ[\"CUDA_VISIBLE_DEVICES\"] = \"0\" # Force kernel to use this GPU"
   ]
  },
  {
   "cell_type": "code",
   "execution_count": null,
   "metadata": {},
   "outputs": [],
   "source": [
    "# The paths to training data are loaded, with 90% used for training and 10% used for validation\n",
    "df = pd.read_csv('../data/training_data/chips/training_data.csv')\n",
    "train = df.sample(frac=0.9)\n",
    "test = df.drop(train.index)"
   ]
  },
  {
   "cell_type": "code",
   "execution_count": null,
   "metadata": {},
   "outputs": [],
   "source": [
    "# To prevent the model from overfitting to the specific shapes of water bodies contained in training chips, we apply rotation and flip transformations\n",
    "data_transforms = albumentations.Compose([\n",
    "    albumentations.VerticalFlip(),\n",
    "    albumentations.HorizontalFlip(),\n",
    "    albumentations.RandomRotate90()\n",
    "])"
   ]
  },
  {
   "cell_type": "code",
   "execution_count": null,
   "metadata": {},
   "outputs": [],
   "source": [
    "# We first train a model that uses only SAR data to make inferences\n",
    "model_params = {\n",
    "    \"sarData\":True,\n",
    "    \"denoisingWeight\":.35,\n",
    "    \"opticalData\":False,\n",
    "    \"demData\":True,\n",
    "    \"handData\":True,\n",
    "    \"output_classes\":2,\n",
    "    \"class_weights\": [5., 1.],\n",
    "    \"channel_drop\":True,\n",
    "    \"backbone\" : \"resnet50\",\n",
    "    \"weights\": \"imagenet\",\n",
    "    \"patience\": 80,\n",
    "    \"batch_size\": 32,\n",
    "    \"num_workers\": 8,\n",
    "    \"lossfunction\": None,\n",
    "    \"lr\": 5e-5,\n",
    "    \"min_epochs\": 1,\n",
    "    \"max_epochs\": 300,\n",
    "    \"num_sanity_val_steps\":0,\n",
    "    \"gpu\": True,\n",
    "    \"ngpus\":1,\n",
    "    \"output_path\": \"model-outputs\",\n",
    "    \"log_path\": \"tensorboard_logs\",\n",
    "    \"experiment_name\" : \"sar_only_model\"\n",
    "}\n",
    "\n",
    "training_data = {'data':train.drop(['labels'], axis=1), 'labels': train[['labels']], \"transforms\":data_transforms}\n",
    "val_data = {'data':test.drop(['labels'], axis=1), 'labels': test[['labels']]}\n",
    "\n",
    "# Instantiate model\n",
    "model = sarInferenceModel(model_params, sarDataLoader, training_data, val_data)  # The loss function instantiation assumes that all non-labeled pixels are -1\n",
    "\n",
    "model.fit()\n",
    "\n",
    "model_save_path = Path.cwd() / model_params.get('output_path', 'model_save_dir')\n",
    "model_save_path.mkdir(exist_ok=True)\n",
    "model_path = model_save_path / Path(model_params.get(\"experiment_name\")).with_suffix(\".pt\")\n",
    "torch.save(model.state_dict(), model_path)"
   ]
  },
  {
   "cell_type": "code",
   "execution_count": null,
   "metadata": {},
   "outputs": [],
   "source": [
    "# This model uses both optical and SAR data to make inferences\n",
    "model_params = {\n",
    "    \"sarData\":True,\n",
    "    \"denoisingWeight\":.35,\n",
    "    \"opticalData\":True,\n",
    "    \"demData\":True,\n",
    "    \"handData\":True,\n",
    "    \"output_classes\":2,\n",
    "    \"class_weights\": [5., 1.],\n",
    "    \"channel_drop\":True,\n",
    "    \"backbone\" : \"resnet50\",\n",
    "    \"weights\": \"imagenet\",\n",
    "    \"patience\": 80,\n",
    "    \"batch_size\": 10,\n",
    "    \"num_workers\": 8,\n",
    "    \"lossfunction\": None,\n",
    "    \"lr\": 5e-5,\n",
    "    \"min_epochs\": 1,\n",
    "    \"max_epochs\": 300,\n",
    "    \"num_sanity_val_steps\":0,\n",
    "    \"gpu\": True,\n",
    "    \"ngpus\":1,\n",
    "    \"output_path\": \"model-outputs\",\n",
    "    \"log_path\": \"tensorboard_logs\",\n",
    "    \"experiment_name\" : \"sar_and_optical_model\"\n",
    "}\n",
    "\n",
    "training_data = {'data':train.drop(['labels'], axis=1), 'labels': train[['labels']], \"transforms\":data_transforms}\n",
    "val_data = {'data':test.drop(['labels'], axis=1), 'labels': test[['labels']]}\n",
    "\n",
    "# Instantiate model\n",
    "model = sarInferenceModel(model_params, sarDataLoader, training_data, val_data)  # The loss function instantiation assumes that all non-labeled pixels are -1\n",
    "\n",
    "model.fit()\n",
    "\n",
    "model_save_path = Path.cwd() / model_params.get('output_path', 'model_save_dir')\n",
    "model_save_path.mkdir(exist_ok=True)\n",
    "model_path = model_save_path / Path(model_params.get(\"experiment_name\")).with_suffix(\".pt\")\n",
    "torch.save(model.state_dict(), model_path)"
   ]
  },
  {
   "cell_type": "code",
   "execution_count": null,
   "metadata": {},
   "outputs": [],
   "source": []
  }
 ],
 "metadata": {
  "kernelspec": {
   "display_name": "Python 3.11.5 ('dl-with-alos-dswe')",
   "language": "python",
   "name": "python3"
  },
  "language_info": {
   "codemirror_mode": {
    "name": "ipython",
    "version": 3
   },
   "file_extension": ".py",
   "mimetype": "text/x-python",
   "name": "python",
   "nbconvert_exporter": "python",
   "pygments_lexer": "ipython3",
   "version": "3.11.5"
  },
  "orig_nbformat": 4,
  "vscode": {
   "interpreter": {
    "hash": "687fac7ebddc94b5987a54dfd21d35444b99b04225b52bf978adb248e82bdec2"
   }
  }
 },
 "nbformat": 4,
 "nbformat_minor": 2
}
