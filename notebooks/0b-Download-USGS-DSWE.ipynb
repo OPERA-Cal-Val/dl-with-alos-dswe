{
 "cells": [
  {
   "cell_type": "markdown",
   "metadata": {},
   "source": [
    "The notebook `0-Download-USGS-DSWE.ipynb` can take a significant amount of time to execute, since we are searching over a large area for overlapping ALOS and DSWE data that meet our search criteria. To sidestep this issue, we provide a list of ALOS granule names along with the corresponding DSWE tile names that have been found to meet our requirements. This notebook demonstrates how to query and download these datasets from the relevant DAACs."
   ]
  },
  {
   "cell_type": "code",
   "execution_count": null,
   "metadata": {},
   "outputs": [],
   "source": [
    "# To query the ASF DAAC\n",
    "import asf_search as asf\n",
    "\n",
    "# To query USGS\n",
    "from pystac_client import Client\n",
    "import pystac\n",
    "import requests\n",
    "from bs4 import BeautifulSoup\n",
    "import netrc\n",
    "\n",
    "# Misc imports\n",
    "import zipfile\n",
    "from pathlib import Path \n",
    "import pandas as pd\n",
    "from typing import Union, Iterable\n",
    "import os"
   ]
  },
  {
   "cell_type": "code",
   "execution_count": null,
   "metadata": {},
   "outputs": [],
   "source": [
    "# Download path for SAR scenes\n",
    "sar_download_path = Path('../data/scenes')"
   ]
  },
  {
   "cell_type": "code",
   "execution_count": null,
   "metadata": {},
   "outputs": [],
   "source": [
    "# Read pre-compiled list of ALOS scene names and corresponding DSWE tiles\n",
    "df = pd.read_csv('../data/alos_dswe_database.csv')"
   ]
  },
  {
   "cell_type": "code",
   "execution_count": null,
   "metadata": {},
   "outputs": [],
   "source": [
    "df.head()"
   ]
  },
  {
   "cell_type": "code",
   "execution_count": null,
   "metadata": {},
   "outputs": [],
   "source": [
    "# Setting up helper methods to download DSWE data\n",
    "def download_asset(item:str, download_path:str='.'):\n",
    "    '''\n",
    "    Given the URL to a USGS DSWE asset, download it and return the download path\n",
    "    '''\n",
    "    download_path = Path(download_path)\n",
    "    download_path.mkdir(exist_ok = True)\n",
    "    \n",
    "    creds = netrc.netrc()\n",
    "    user,account,password = creds.authenticators('ers.cr.usgs.gov')\n",
    "\n",
    "    url = 'https://ers.cr.usgs.gov/login'\n",
    "    with requests.Session() as s:\n",
    "        \n",
    "        r = s.get(url)\n",
    "        soup = BeautifulSoup(r.content, 'html.parser') \n",
    "        sval = soup.find('input', attrs={'name':'csrf'})['value']\n",
    "\n",
    "        data = {\"username\": user, \n",
    "            \"password\": password,\n",
    "            \"csrf\": sval}\n",
    "\n",
    "        bf = s.post(url, data = data)\n",
    "\n",
    "        filename = item.split('/')[-1]\n",
    "        \n",
    "        # sometimes we need to try a few times before the file will download\n",
    "        respb, count = None, 0\n",
    "        while respb != 200 and count < 10:\n",
    "            respb = s.get(item,\n",
    "                        allow_redirects=True,\n",
    "                        headers = {'content-type': 'image/tiff'})\n",
    "\n",
    "            with open(Path(download_path) / filename, 'wb') as src:\n",
    "                src.write(respb.content)\n",
    "\n",
    "            count += 1\n",
    "\n",
    "    return (download_path) / filename\n",
    "\n",
    "# download DSWE INWAM data given a list of granule ids\n",
    "def download_dswe_asset(filename:str):\n",
    "    '''\n",
    "    Given a USGS DSWE granule id, download it and return the download path\n",
    "    '''\n",
    "    usgs_stac_url = 'https://landsatlook.usgs.gov/stac-server'\n",
    "    catalog = Client.open(usgs_stac_url)\n",
    "\n",
    "    opts = {\n",
    "        'ids':[filename]\n",
    "    }\n",
    "\n",
    "    search = catalog.search(**opts)\n",
    "    items = search.item_collection()\n",
    "    items = [r.assets['inwam'].href for r in items]\n",
    "\n",
    "    assert len(items) == 1, \"More than one URL returned for given granule id\"\n",
    "\n",
    "    # download files\n",
    "    items = download_asset(items[0])\n",
    "\n",
    "    return items"
   ]
  },
  {
   "cell_type": "code",
   "execution_count": null,
   "metadata": {},
   "outputs": [],
   "source": [
    "def return_granule_ids(filename):\n",
    "    return '_'.join(filename.split('_')[:-1]) + '_DSWE'"
   ]
  },
  {
   "cell_type": "code",
   "execution_count": null,
   "metadata": {},
   "outputs": [],
   "source": [
    "for _, row in df.iterrows():\n",
    "    \n",
    "    bits = row.ALOS_scene.split('_')\n",
    "    granule_name = f\"ALPSRP{bits[1]}{bits[3][1:]}\"\n",
    "    results = asf.granule_search(granule_name)\n",
    "    \n",
    "    for d_ in results.geojson()['features']:\n",
    "        for i, d_ in enumerate(results.geojson()['features']):\n",
    "            if 'RTC_HI_RES' in d_['properties']['fileID']:\n",
    "                break\n",
    "\n",
    "    filename = d_['properties']['fileName']\n",
    "    results[i].download(sar_download_path)\n",
    "\n",
    "    _downloaded_file = sar_download_path/filename\n",
    "    assert _downloaded_file.exists(), 'Error, file does not exist'\n",
    "\n",
    "    with zipfile.ZipFile(_downloaded_file) as f:\n",
    "        f.extractall(sar_download_path)\n",
    "\n",
    "    # delete zip file after extracting contents\n",
    "    _downloaded_file.unlink()\n",
    "\n",
    "    # create subfolder for dswe data and move downloaded DSWE data to it\n",
    "    alos_path = (_downloaded_file).with_suffix('')\n",
    "    _usgs_folder_path = (alos_path/'usgs_dswe')\n",
    "    _usgs_folder_path.mkdir(exist_ok=True)\n",
    "\n",
    "    usgs_ids = list(map(return_granule_ids, row.DSWE_tiles.split(\" \")))\n",
    "    usgs_filenames = list(map(download_dswe_asset, usgs_ids))  \n",
    "\n",
    "    _ = [os.rename(str(x), _usgs_folder_path/x.name) for x in usgs_filenames]\n"
   ]
  }
 ],
 "metadata": {
  "kernelspec": {
   "display_name": "Python 3.11.5 ('dl-with-alos-dswe')",
   "language": "python",
   "name": "python3"
  },
  "language_info": {
   "codemirror_mode": {
    "name": "ipython",
    "version": 3
   },
   "file_extension": ".py",
   "mimetype": "text/x-python",
   "name": "python",
   "nbconvert_exporter": "python",
   "pygments_lexer": "ipython3",
   "version": "3.11.5"
  },
  "orig_nbformat": 4,
  "vscode": {
   "interpreter": {
    "hash": "687fac7ebddc94b5987a54dfd21d35444b99b04225b52bf978adb248e82bdec2"
   }
  }
 },
 "nbformat": 4,
 "nbformat_minor": 2
}
