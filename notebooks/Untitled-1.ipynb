{
 "cells": [
  {
   "cell_type": "code",
   "execution_count": 1,
   "metadata": {},
   "outputs": [],
   "source": [
    "from pathlib import Path"
   ]
  },
  {
   "cell_type": "code",
   "execution_count": 3,
   "metadata": {},
   "outputs": [],
   "source": [
    "from pathlib import Path, PurePath, PosixPath"
   ]
  },
  {
   "cell_type": "code",
   "execution_count": 5,
   "metadata": {},
   "outputs": [
    {
     "data": {
      "text/plain": [
       "True"
      ]
     },
     "execution_count": 5,
     "metadata": {},
     "output_type": "execute_result"
    }
   ],
   "source": [
    "isinstance(test, PosixPath)"
   ]
  },
  {
   "cell_type": "code",
   "execution_count": 2,
   "metadata": {},
   "outputs": [
    {
     "name": "stdout",
     "output_type": "stream",
     "text": [
      "<class 'pathlib.PosixPath'>\n"
     ]
    }
   ],
   "source": [
    "test = Path('./')\n",
    "print(type(test))"
   ]
  },
  {
   "cell_type": "code",
   "execution_count": 1,
   "metadata": {},
   "outputs": [],
   "source": [
    "import geopandas as gpd"
   ]
  },
  {
   "cell_type": "code",
   "execution_count": 3,
   "metadata": {},
   "outputs": [],
   "source": [
    "file1 = '/Users/karthikv/Desktop/workspace/my-repositories/rfs-and-cnns/data/shapefiles/training_data/training_data.shp'\n",
    "file2 = '/Users/karthikv/Desktop/workspace/my-repositories/rfs-and-cnns/data/shapefiles/training_data/training_data2.shp'\n",
    "\n",
    "df1 = gpd.read_file(file1)\n",
    "df2 = gpd.read_file(file2)"
   ]
  },
  {
   "cell_type": "code",
   "execution_count": 4,
   "metadata": {},
   "outputs": [
    {
     "data": {
      "text/html": [
       "<div>\n",
       "<style scoped>\n",
       "    .dataframe tbody tr th:only-of-type {\n",
       "        vertical-align: middle;\n",
       "    }\n",
       "\n",
       "    .dataframe tbody tr th {\n",
       "        vertical-align: top;\n",
       "    }\n",
       "\n",
       "    .dataframe thead th {\n",
       "        text-align: right;\n",
       "    }\n",
       "</style>\n",
       "<table border=\"1\" class=\"dataframe\">\n",
       "  <thead>\n",
       "    <tr style=\"text-align: right;\">\n",
       "      <th></th>\n",
       "      <th>id</th>\n",
       "      <th>name</th>\n",
       "      <th>geometry</th>\n",
       "    </tr>\n",
       "  </thead>\n",
       "  <tbody>\n",
       "    <tr>\n",
       "      <th>0</th>\n",
       "      <td>0</td>\n",
       "      <td>tahoe</td>\n",
       "      <td>POLYGON ((-120.29751 38.93464, -119.76223 40.1...</td>\n",
       "    </tr>\n",
       "    <tr>\n",
       "      <th>1</th>\n",
       "      <td>1</td>\n",
       "      <td>puget_snd</td>\n",
       "      <td>POLYGON ((-122.96488 46.92394, -122.96488 47.4...</td>\n",
       "    </tr>\n",
       "    <tr>\n",
       "      <th>2</th>\n",
       "      <td>2</td>\n",
       "      <td>yukon_rvr</td>\n",
       "      <td>POLYGON ((-148.43430 66.16969, -148.43430 66.4...</td>\n",
       "    </tr>\n",
       "    <tr>\n",
       "      <th>3</th>\n",
       "      <td>3</td>\n",
       "      <td>atchafalay</td>\n",
       "      <td>POLYGON ((-91.48633 29.44266, -91.48633 29.630...</td>\n",
       "    </tr>\n",
       "    <tr>\n",
       "      <th>4</th>\n",
       "      <td>4</td>\n",
       "      <td>moosehead</td>\n",
       "      <td>POLYGON ((-69.92498 45.47786, -69.92498 45.881...</td>\n",
       "    </tr>\n",
       "  </tbody>\n",
       "</table>\n",
       "</div>"
      ],
      "text/plain": [
       "   id        name                                           geometry\n",
       "0   0       tahoe  POLYGON ((-120.29751 38.93464, -119.76223 40.1...\n",
       "1   1   puget_snd  POLYGON ((-122.96488 46.92394, -122.96488 47.4...\n",
       "2   2   yukon_rvr  POLYGON ((-148.43430 66.16969, -148.43430 66.4...\n",
       "3   3  atchafalay  POLYGON ((-91.48633 29.44266, -91.48633 29.630...\n",
       "4   4   moosehead  POLYGON ((-69.92498 45.47786, -69.92498 45.881..."
      ]
     },
     "execution_count": 4,
     "metadata": {},
     "output_type": "execute_result"
    }
   ],
   "source": [
    "df1.head()"
   ]
  },
  {
   "cell_type": "code",
   "execution_count": 5,
   "metadata": {},
   "outputs": [
    {
     "data": {
      "text/html": [
       "<div>\n",
       "<style scoped>\n",
       "    .dataframe tbody tr th:only-of-type {\n",
       "        vertical-align: middle;\n",
       "    }\n",
       "\n",
       "    .dataframe tbody tr th {\n",
       "        vertical-align: top;\n",
       "    }\n",
       "\n",
       "    .dataframe thead th {\n",
       "        text-align: right;\n",
       "    }\n",
       "</style>\n",
       "<table border=\"1\" class=\"dataframe\">\n",
       "  <thead>\n",
       "    <tr style=\"text-align: right;\">\n",
       "      <th></th>\n",
       "      <th>id</th>\n",
       "      <th>name</th>\n",
       "      <th>geometry</th>\n",
       "    </tr>\n",
       "  </thead>\n",
       "  <tbody>\n",
       "    <tr>\n",
       "      <th>0</th>\n",
       "      <td>0</td>\n",
       "      <td>alaska_00</td>\n",
       "      <td>POLYGON ((-149.57956 64.48595, -149.57956 64.9...</td>\n",
       "    </tr>\n",
       "    <tr>\n",
       "      <th>1</th>\n",
       "      <td>1</td>\n",
       "      <td>alaska_01</td>\n",
       "      <td>POLYGON ((-152.77646 64.86391, -152.77646 65.5...</td>\n",
       "    </tr>\n",
       "    <tr>\n",
       "      <th>2</th>\n",
       "      <td>2</td>\n",
       "      <td>alaska_02</td>\n",
       "      <td>POLYGON ((-162.28725 64.29211, -162.28725 65.1...</td>\n",
       "    </tr>\n",
       "    <tr>\n",
       "      <th>3</th>\n",
       "      <td>3</td>\n",
       "      <td>alaska_03</td>\n",
       "      <td>POLYGON ((-160.19150 63.04768, -160.19150 63.5...</td>\n",
       "    </tr>\n",
       "    <tr>\n",
       "      <th>4</th>\n",
       "      <td>4</td>\n",
       "      <td>alaska_04</td>\n",
       "      <td>POLYGON ((-152.45677 60.35534, -152.45677 61.2...</td>\n",
       "    </tr>\n",
       "  </tbody>\n",
       "</table>\n",
       "</div>"
      ],
      "text/plain": [
       "   id       name                                           geometry\n",
       "0   0  alaska_00  POLYGON ((-149.57956 64.48595, -149.57956 64.9...\n",
       "1   1  alaska_01  POLYGON ((-152.77646 64.86391, -152.77646 65.5...\n",
       "2   2  alaska_02  POLYGON ((-162.28725 64.29211, -162.28725 65.1...\n",
       "3   3  alaska_03  POLYGON ((-160.19150 63.04768, -160.19150 63.5...\n",
       "4   4  alaska_04  POLYGON ((-152.45677 60.35534, -152.45677 61.2..."
      ]
     },
     "execution_count": 5,
     "metadata": {},
     "output_type": "execute_result"
    }
   ],
   "source": [
    "df2.head()"
   ]
  },
  {
   "cell_type": "code",
   "execution_count": 6,
   "metadata": {},
   "outputs": [
    {
     "data": {
      "text/plain": [
       "22"
      ]
     },
     "execution_count": 6,
     "metadata": {},
     "output_type": "execute_result"
    }
   ],
   "source": [
    "len(df1)"
   ]
  },
  {
   "cell_type": "code",
   "execution_count": 10,
   "metadata": {},
   "outputs": [],
   "source": [
    "df = df1.append(df2, ignore_index=True)"
   ]
  },
  {
   "cell_type": "code",
   "execution_count": 15,
   "metadata": {},
   "outputs": [],
   "source": [
    "df.drop(['id', 'name'], axis=1, inplace=True)"
   ]
  },
  {
   "cell_type": "code",
   "execution_count": 16,
   "metadata": {},
   "outputs": [
    {
     "data": {
      "text/html": [
       "<div>\n",
       "<style scoped>\n",
       "    .dataframe tbody tr th:only-of-type {\n",
       "        vertical-align: middle;\n",
       "    }\n",
       "\n",
       "    .dataframe tbody tr th {\n",
       "        vertical-align: top;\n",
       "    }\n",
       "\n",
       "    .dataframe thead th {\n",
       "        text-align: right;\n",
       "    }\n",
       "</style>\n",
       "<table border=\"1\" class=\"dataframe\">\n",
       "  <thead>\n",
       "    <tr style=\"text-align: right;\">\n",
       "      <th></th>\n",
       "      <th>geometry</th>\n",
       "    </tr>\n",
       "  </thead>\n",
       "  <tbody>\n",
       "    <tr>\n",
       "      <th>0</th>\n",
       "      <td>POLYGON ((-120.29751 38.93464, -119.76223 40.1...</td>\n",
       "    </tr>\n",
       "    <tr>\n",
       "      <th>1</th>\n",
       "      <td>POLYGON ((-122.96488 46.92394, -122.96488 47.4...</td>\n",
       "    </tr>\n",
       "    <tr>\n",
       "      <th>2</th>\n",
       "      <td>POLYGON ((-148.43430 66.16969, -148.43430 66.4...</td>\n",
       "    </tr>\n",
       "    <tr>\n",
       "      <th>3</th>\n",
       "      <td>POLYGON ((-91.48633 29.44266, -91.48633 29.630...</td>\n",
       "    </tr>\n",
       "    <tr>\n",
       "      <th>4</th>\n",
       "      <td>POLYGON ((-69.92498 45.47786, -69.92498 45.881...</td>\n",
       "    </tr>\n",
       "    <tr>\n",
       "      <th>5</th>\n",
       "      <td>POLYGON ((-107.76851 47.55648, -107.76851 48.2...</td>\n",
       "    </tr>\n",
       "    <tr>\n",
       "      <th>6</th>\n",
       "      <td>POLYGON ((-96.03294 46.32023, -96.03294 46.632...</td>\n",
       "    </tr>\n",
       "    <tr>\n",
       "      <th>7</th>\n",
       "      <td>POLYGON ((-81.10025 25.45906, -81.10025 25.580...</td>\n",
       "    </tr>\n",
       "    <tr>\n",
       "      <th>8</th>\n",
       "      <td>POLYGON ((-116.87663 47.34146, -116.87663 47.6...</td>\n",
       "    </tr>\n",
       "    <tr>\n",
       "      <th>9</th>\n",
       "      <td>POLYGON ((-114.54829 47.57056, -114.54829 47.9...</td>\n",
       "    </tr>\n",
       "    <tr>\n",
       "      <th>10</th>\n",
       "      <td>POLYGON ((-88.39971 36.17987, -88.39971 36.739...</td>\n",
       "    </tr>\n",
       "    <tr>\n",
       "      <th>11</th>\n",
       "      <td>POLYGON ((-88.59990 44.53957, -88.59990 44.866...</td>\n",
       "    </tr>\n",
       "    <tr>\n",
       "      <th>12</th>\n",
       "      <td>POLYGON ((-97.03932 39.09435, -97.03932 39.327...</td>\n",
       "    </tr>\n",
       "    <tr>\n",
       "      <th>13</th>\n",
       "      <td>POLYGON ((-112.72352 42.94586, -112.72352 43.1...</td>\n",
       "    </tr>\n",
       "    <tr>\n",
       "      <th>14</th>\n",
       "      <td>POLYGON ((-103.95509 35.21399, -103.95509 35.4...</td>\n",
       "    </tr>\n",
       "    <tr>\n",
       "      <th>15</th>\n",
       "      <td>POLYGON ((-101.30706 29.37527, -101.30706 29.6...</td>\n",
       "    </tr>\n",
       "    <tr>\n",
       "      <th>16</th>\n",
       "      <td>POLYGON ((-97.52742 27.63812, -97.52742 27.949...</td>\n",
       "    </tr>\n",
       "    <tr>\n",
       "      <th>17</th>\n",
       "      <td>POLYGON ((-91.26909 33.61887, -91.26909 34.264...</td>\n",
       "    </tr>\n",
       "    <tr>\n",
       "      <th>18</th>\n",
       "      <td>POLYGON ((-87.38308 34.50404, -87.38308 34.891...</td>\n",
       "    </tr>\n",
       "    <tr>\n",
       "      <th>19</th>\n",
       "      <td>POLYGON ((-107.04196 42.23164, -107.04196 42.5...</td>\n",
       "    </tr>\n",
       "    <tr>\n",
       "      <th>20</th>\n",
       "      <td>POLYGON ((-110.50946 32.97230, -110.50946 33.4...</td>\n",
       "    </tr>\n",
       "    <tr>\n",
       "      <th>21</th>\n",
       "      <td>POLYGON ((-104.31075 40.21833, -104.31075 40.4...</td>\n",
       "    </tr>\n",
       "    <tr>\n",
       "      <th>22</th>\n",
       "      <td>POLYGON ((-149.57956 64.48595, -149.57956 64.9...</td>\n",
       "    </tr>\n",
       "    <tr>\n",
       "      <th>23</th>\n",
       "      <td>POLYGON ((-152.77646 64.86391, -152.77646 65.5...</td>\n",
       "    </tr>\n",
       "    <tr>\n",
       "      <th>24</th>\n",
       "      <td>POLYGON ((-162.28725 64.29211, -162.28725 65.1...</td>\n",
       "    </tr>\n",
       "    <tr>\n",
       "      <th>25</th>\n",
       "      <td>POLYGON ((-160.19150 63.04768, -160.19150 63.5...</td>\n",
       "    </tr>\n",
       "    <tr>\n",
       "      <th>26</th>\n",
       "      <td>POLYGON ((-152.45677 60.35534, -152.45677 61.2...</td>\n",
       "    </tr>\n",
       "    <tr>\n",
       "      <th>27</th>\n",
       "      <td>POLYGON ((-149.91701 61.05058, -149.91701 61.6...</td>\n",
       "    </tr>\n",
       "    <tr>\n",
       "      <th>28</th>\n",
       "      <td>POLYGON ((-155.04981 59.38818, -155.04981 60.1...</td>\n",
       "    </tr>\n",
       "    <tr>\n",
       "      <th>29</th>\n",
       "      <td>POLYGON ((-159.46332 59.52807, -159.46332 60.4...</td>\n",
       "    </tr>\n",
       "    <tr>\n",
       "      <th>30</th>\n",
       "      <td>POLYGON ((-162.01196 60.60475, -162.01196 61.2...</td>\n",
       "    </tr>\n",
       "    <tr>\n",
       "      <th>31</th>\n",
       "      <td>POLYGON ((-162.24285 65.88867, -162.24285 66.4...</td>\n",
       "    </tr>\n",
       "    <tr>\n",
       "      <th>32</th>\n",
       "      <td>POLYGON ((-160.45791 66.22384, -160.45791 66.6...</td>\n",
       "    </tr>\n",
       "    <tr>\n",
       "      <th>33</th>\n",
       "      <td>POLYGON ((-101.18199 44.21519, -101.18199 45.1...</td>\n",
       "    </tr>\n",
       "    <tr>\n",
       "      <th>34</th>\n",
       "      <td>POLYGON ((-103.32315 47.36002, -103.32315 48.5...</td>\n",
       "    </tr>\n",
       "    <tr>\n",
       "      <th>35</th>\n",
       "      <td>POLYGON ((-103.50943 37.83079, -103.50943 38.3...</td>\n",
       "    </tr>\n",
       "    <tr>\n",
       "      <th>36</th>\n",
       "      <td>POLYGON ((-104.46093 31.86877, -104.46093 32.6...</td>\n",
       "    </tr>\n",
       "    <tr>\n",
       "      <th>37</th>\n",
       "      <td>POLYGON ((-93.62272 34.47325, -93.62272 34.784...</td>\n",
       "    </tr>\n",
       "    <tr>\n",
       "      <th>38</th>\n",
       "      <td>POLYGON ((-77.16587 39.73192, -77.16587 40.436...</td>\n",
       "    </tr>\n",
       "    <tr>\n",
       "      <th>39</th>\n",
       "      <td>POLYGON ((-73.75068 44.31180, -73.75068 44.757...</td>\n",
       "    </tr>\n",
       "    <tr>\n",
       "      <th>40</th>\n",
       "      <td>POLYGON ((-70.93908 43.97104, -70.93908 44.295...</td>\n",
       "    </tr>\n",
       "    <tr>\n",
       "      <th>41</th>\n",
       "      <td>POLYGON ((-72.28552 43.69207, -72.28552 43.887...</td>\n",
       "    </tr>\n",
       "    <tr>\n",
       "      <th>42</th>\n",
       "      <td>POLYGON ((-72.48916 43.07288, -72.48916 43.287...</td>\n",
       "    </tr>\n",
       "    <tr>\n",
       "      <th>43</th>\n",
       "      <td>POLYGON ((-71.88921 44.20225, -71.88921 44.430...</td>\n",
       "    </tr>\n",
       "  </tbody>\n",
       "</table>\n",
       "</div>"
      ],
      "text/plain": [
       "                                             geometry\n",
       "0   POLYGON ((-120.29751 38.93464, -119.76223 40.1...\n",
       "1   POLYGON ((-122.96488 46.92394, -122.96488 47.4...\n",
       "2   POLYGON ((-148.43430 66.16969, -148.43430 66.4...\n",
       "3   POLYGON ((-91.48633 29.44266, -91.48633 29.630...\n",
       "4   POLYGON ((-69.92498 45.47786, -69.92498 45.881...\n",
       "5   POLYGON ((-107.76851 47.55648, -107.76851 48.2...\n",
       "6   POLYGON ((-96.03294 46.32023, -96.03294 46.632...\n",
       "7   POLYGON ((-81.10025 25.45906, -81.10025 25.580...\n",
       "8   POLYGON ((-116.87663 47.34146, -116.87663 47.6...\n",
       "9   POLYGON ((-114.54829 47.57056, -114.54829 47.9...\n",
       "10  POLYGON ((-88.39971 36.17987, -88.39971 36.739...\n",
       "11  POLYGON ((-88.59990 44.53957, -88.59990 44.866...\n",
       "12  POLYGON ((-97.03932 39.09435, -97.03932 39.327...\n",
       "13  POLYGON ((-112.72352 42.94586, -112.72352 43.1...\n",
       "14  POLYGON ((-103.95509 35.21399, -103.95509 35.4...\n",
       "15  POLYGON ((-101.30706 29.37527, -101.30706 29.6...\n",
       "16  POLYGON ((-97.52742 27.63812, -97.52742 27.949...\n",
       "17  POLYGON ((-91.26909 33.61887, -91.26909 34.264...\n",
       "18  POLYGON ((-87.38308 34.50404, -87.38308 34.891...\n",
       "19  POLYGON ((-107.04196 42.23164, -107.04196 42.5...\n",
       "20  POLYGON ((-110.50946 32.97230, -110.50946 33.4...\n",
       "21  POLYGON ((-104.31075 40.21833, -104.31075 40.4...\n",
       "22  POLYGON ((-149.57956 64.48595, -149.57956 64.9...\n",
       "23  POLYGON ((-152.77646 64.86391, -152.77646 65.5...\n",
       "24  POLYGON ((-162.28725 64.29211, -162.28725 65.1...\n",
       "25  POLYGON ((-160.19150 63.04768, -160.19150 63.5...\n",
       "26  POLYGON ((-152.45677 60.35534, -152.45677 61.2...\n",
       "27  POLYGON ((-149.91701 61.05058, -149.91701 61.6...\n",
       "28  POLYGON ((-155.04981 59.38818, -155.04981 60.1...\n",
       "29  POLYGON ((-159.46332 59.52807, -159.46332 60.4...\n",
       "30  POLYGON ((-162.01196 60.60475, -162.01196 61.2...\n",
       "31  POLYGON ((-162.24285 65.88867, -162.24285 66.4...\n",
       "32  POLYGON ((-160.45791 66.22384, -160.45791 66.6...\n",
       "33  POLYGON ((-101.18199 44.21519, -101.18199 45.1...\n",
       "34  POLYGON ((-103.32315 47.36002, -103.32315 48.5...\n",
       "35  POLYGON ((-103.50943 37.83079, -103.50943 38.3...\n",
       "36  POLYGON ((-104.46093 31.86877, -104.46093 32.6...\n",
       "37  POLYGON ((-93.62272 34.47325, -93.62272 34.784...\n",
       "38  POLYGON ((-77.16587 39.73192, -77.16587 40.436...\n",
       "39  POLYGON ((-73.75068 44.31180, -73.75068 44.757...\n",
       "40  POLYGON ((-70.93908 43.97104, -70.93908 44.295...\n",
       "41  POLYGON ((-72.28552 43.69207, -72.28552 43.887...\n",
       "42  POLYGON ((-72.48916 43.07288, -72.48916 43.287...\n",
       "43  POLYGON ((-71.88921 44.20225, -71.88921 44.430..."
      ]
     },
     "execution_count": 16,
     "metadata": {},
     "output_type": "execute_result"
    }
   ],
   "source": [
    "df"
   ]
  },
  {
   "cell_type": "code",
   "execution_count": 17,
   "metadata": {},
   "outputs": [
    {
     "ename": "ValueError",
     "evalue": "Unknown na method /Users/karthikv/Desktop/workspace/my-repositories/rfs-and-cnns/data/shapefiles/training_data/training_scenes.geojson",
     "output_type": "error",
     "traceback": [
      "\u001b[0;31m---------------------------------------------------------------------------\u001b[0m",
      "\u001b[0;31mValueError\u001b[0m                                Traceback (most recent call last)",
      "\u001b[1;32mUntitled-1.ipynb Cell 9\u001b[0m in \u001b[0;36m<cell line: 1>\u001b[0;34m()\u001b[0m\n\u001b[0;32m----> <a href='vscode-notebook-cell:Untitled-1.ipynb?jupyter-notebook#X11sdW50aXRsZWQ%3D?line=0'>1</a>\u001b[0m df\u001b[39m.\u001b[39;49mto_json(\u001b[39m'\u001b[39;49m\u001b[39m/Users/karthikv/Desktop/workspace/my-repositories/rfs-and-cnns/data/shapefiles/training_data/training_scenes.geojson\u001b[39;49m\u001b[39m'\u001b[39;49m)\n",
      "File \u001b[0;32m~/opt/anaconda3/envs/playground/lib/python3.10/site-packages/geopandas/geodataframe.py:750\u001b[0m, in \u001b[0;36mGeoDataFrame.to_json\u001b[0;34m(self, na, show_bbox, drop_id, **kwargs)\u001b[0m\n\u001b[1;32m    696\u001b[0m \u001b[39mdef\u001b[39;00m \u001b[39mto_json\u001b[39m(\u001b[39mself\u001b[39m, na\u001b[39m=\u001b[39m\u001b[39m\"\u001b[39m\u001b[39mnull\u001b[39m\u001b[39m\"\u001b[39m, show_bbox\u001b[39m=\u001b[39m\u001b[39mFalse\u001b[39;00m, drop_id\u001b[39m=\u001b[39m\u001b[39mFalse\u001b[39;00m, \u001b[39m*\u001b[39m\u001b[39m*\u001b[39mkwargs):\n\u001b[1;32m    697\u001b[0m     \u001b[39m\"\"\"\u001b[39;00m\n\u001b[1;32m    698\u001b[0m \u001b[39m    Returns a GeoJSON representation of the ``GeoDataFrame`` as a string.\u001b[39;00m\n\u001b[1;32m    699\u001b[0m \n\u001b[0;32m   (...)\u001b[0m\n\u001b[1;32m    747\u001b[0m \n\u001b[1;32m    748\u001b[0m \u001b[39m    \"\"\"\u001b[39;00m\n\u001b[1;32m    749\u001b[0m     \u001b[39mreturn\u001b[39;00m json\u001b[39m.\u001b[39mdumps(\n\u001b[0;32m--> 750\u001b[0m         \u001b[39mself\u001b[39;49m\u001b[39m.\u001b[39;49m_to_geo(na\u001b[39m=\u001b[39;49mna, show_bbox\u001b[39m=\u001b[39;49mshow_bbox, drop_id\u001b[39m=\u001b[39;49mdrop_id), \u001b[39m*\u001b[39m\u001b[39m*\u001b[39mkwargs\n\u001b[1;32m    751\u001b[0m     )\n",
      "File \u001b[0;32m~/opt/anaconda3/envs/playground/lib/python3.10/site-packages/geopandas/geodataframe.py:897\u001b[0m, in \u001b[0;36mGeoDataFrame._to_geo\u001b[0;34m(self, **kwargs)\u001b[0m\n\u001b[1;32m    889\u001b[0m \u001b[39mdef\u001b[39;00m \u001b[39m_to_geo\u001b[39m(\u001b[39mself\u001b[39m, \u001b[39m*\u001b[39m\u001b[39m*\u001b[39mkwargs):\n\u001b[1;32m    890\u001b[0m     \u001b[39m\"\"\"\u001b[39;00m\n\u001b[1;32m    891\u001b[0m \u001b[39m    Returns a python feature collection (i.e. the geointerface)\u001b[39;00m\n\u001b[1;32m    892\u001b[0m \u001b[39m    representation of the GeoDataFrame.\u001b[39;00m\n\u001b[1;32m    893\u001b[0m \n\u001b[1;32m    894\u001b[0m \u001b[39m    \"\"\"\u001b[39;00m\n\u001b[1;32m    895\u001b[0m     geo \u001b[39m=\u001b[39m {\n\u001b[1;32m    896\u001b[0m         \u001b[39m\"\u001b[39m\u001b[39mtype\u001b[39m\u001b[39m\"\u001b[39m: \u001b[39m\"\u001b[39m\u001b[39mFeatureCollection\u001b[39m\u001b[39m\"\u001b[39m,\n\u001b[0;32m--> 897\u001b[0m         \u001b[39m\"\u001b[39m\u001b[39mfeatures\u001b[39m\u001b[39m\"\u001b[39m: \u001b[39mlist\u001b[39;49m(\u001b[39mself\u001b[39;49m\u001b[39m.\u001b[39;49miterfeatures(\u001b[39m*\u001b[39;49m\u001b[39m*\u001b[39;49mkwargs)),\n\u001b[1;32m    898\u001b[0m     }\n\u001b[1;32m    900\u001b[0m     \u001b[39mif\u001b[39;00m kwargs\u001b[39m.\u001b[39mget(\u001b[39m\"\u001b[39m\u001b[39mshow_bbox\u001b[39m\u001b[39m\"\u001b[39m, \u001b[39mFalse\u001b[39;00m):\n\u001b[1;32m    901\u001b[0m         geo[\u001b[39m\"\u001b[39m\u001b[39mbbox\u001b[39m\u001b[39m\"\u001b[39m] \u001b[39m=\u001b[39m \u001b[39mtuple\u001b[39m(\u001b[39mself\u001b[39m\u001b[39m.\u001b[39mtotal_bounds)\n",
      "File \u001b[0;32m~/opt/anaconda3/envs/playground/lib/python3.10/site-packages/geopandas/geodataframe.py:826\u001b[0m, in \u001b[0;36mGeoDataFrame.iterfeatures\u001b[0;34m(self, na, show_bbox, drop_id)\u001b[0m\n\u001b[1;32m    787\u001b[0m         \u001b[39m\"\"\"\u001b[39;00m\n\u001b[1;32m    788\u001b[0m \u001b[39m        Returns an iterator that yields feature dictionaries that comply with\u001b[39;00m\n\u001b[1;32m    789\u001b[0m \u001b[39m        __geo_interface__\u001b[39;00m\n\u001b[0;32m   (...)\u001b[0m\n\u001b[1;32m    823\u001b[0m \u001b[39m'type': 'Point', 'coordinates': (1.0, 2.0)}}\u001b[39;00m\n\u001b[1;32m    824\u001b[0m \u001b[39m        \"\"\"\u001b[39;00m\n\u001b[1;32m    825\u001b[0m         \u001b[39mif\u001b[39;00m na \u001b[39mnot\u001b[39;00m \u001b[39min\u001b[39;00m [\u001b[39m\"\u001b[39m\u001b[39mnull\u001b[39m\u001b[39m\"\u001b[39m, \u001b[39m\"\u001b[39m\u001b[39mdrop\u001b[39m\u001b[39m\"\u001b[39m, \u001b[39m\"\u001b[39m\u001b[39mkeep\u001b[39m\u001b[39m\"\u001b[39m]:\n\u001b[0;32m--> 826\u001b[0m             \u001b[39mraise\u001b[39;00m \u001b[39mValueError\u001b[39;00m(\u001b[39m\"\u001b[39m\u001b[39mUnknown na method \u001b[39m\u001b[39m{0}\u001b[39;00m\u001b[39m\"\u001b[39m\u001b[39m.\u001b[39mformat(na))\n\u001b[1;32m    828\u001b[0m         \u001b[39mif\u001b[39;00m \u001b[39mself\u001b[39m\u001b[39m.\u001b[39m_geometry_column_name \u001b[39mnot\u001b[39;00m \u001b[39min\u001b[39;00m \u001b[39mself\u001b[39m:\n\u001b[1;32m    829\u001b[0m             \u001b[39mraise\u001b[39;00m \u001b[39mAttributeError\u001b[39;00m(\n\u001b[1;32m    830\u001b[0m                 \u001b[39m\"\u001b[39m\u001b[39mNo geometry data set (expected in\u001b[39m\u001b[39m\"\u001b[39m\n\u001b[1;32m    831\u001b[0m                 \u001b[39m\"\u001b[39m\u001b[39m column \u001b[39m\u001b[39m'\u001b[39m\u001b[39m%s\u001b[39;00m\u001b[39m'\u001b[39m\u001b[39m).\u001b[39m\u001b[39m\"\u001b[39m \u001b[39m%\u001b[39m \u001b[39mself\u001b[39m\u001b[39m.\u001b[39m_geometry_column_name\n\u001b[1;32m    832\u001b[0m             )\n",
      "\u001b[0;31mValueError\u001b[0m: Unknown na method /Users/karthikv/Desktop/workspace/my-repositories/rfs-and-cnns/data/shapefiles/training_data/training_scenes.geojson"
     ]
    }
   ],
   "source": [
    "df.to_json('/Users/karthikv/Desktop/workspace/my-repositories/rfs-and-cnns/data/shapefiles/training_data/training_scenes.geojson')"
   ]
  },
  {
   "cell_type": "code",
   "execution_count": 18,
   "metadata": {},
   "outputs": [
    {
     "data": {
      "text/plain": [
       "geopandas.geodataframe.GeoDataFrame"
      ]
     },
     "execution_count": 18,
     "metadata": {},
     "output_type": "execute_result"
    }
   ],
   "source": [
    "type(df)"
   ]
  },
  {
   "cell_type": "code",
   "execution_count": 19,
   "metadata": {},
   "outputs": [],
   "source": [
    "df.to_file('/Users/karthikv/Desktop/workspace/my-repositories/rfs-and-cnns/data/shapefiles/training_data/training_scenes.geojson', driver='GeoJSON')"
   ]
  },
  {
   "cell_type": "code",
   "execution_count": null,
   "metadata": {},
   "outputs": [],
   "source": []
  }
 ],
 "metadata": {
  "kernelspec": {
   "display_name": "Python 3.10.6 ('playground')",
   "language": "python",
   "name": "python3"
  },
  "language_info": {
   "codemirror_mode": {
    "name": "ipython",
    "version": 3
   },
   "file_extension": ".py",
   "mimetype": "text/x-python",
   "name": "python",
   "nbconvert_exporter": "python",
   "pygments_lexer": "ipython3",
   "version": "3.10.6"
  },
  "orig_nbformat": 4,
  "vscode": {
   "interpreter": {
    "hash": "37a3d299aef8aea26e51c3187081508fadf567cc05aaa145abe616e39d41c0d5"
   }
  }
 },
 "nbformat": 4,
 "nbformat_minor": 2
}
